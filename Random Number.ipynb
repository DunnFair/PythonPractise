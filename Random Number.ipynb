{
 "cells": [
  {
   "cell_type": "code",
   "execution_count": 1,
   "id": "4e27dea3",
   "metadata": {},
   "outputs": [],
   "source": [
    "import numpy as np"
   ]
  },
  {
   "cell_type": "code",
   "execution_count": 4,
   "id": "ee93d31e",
   "metadata": {},
   "outputs": [
    {
     "data": {
      "text/plain": [
       "array([0.65366022, 0.18971276])"
      ]
     },
     "execution_count": 4,
     "metadata": {},
     "output_type": "execute_result"
    }
   ],
   "source": [
    "np.random.rand(2) #0~1數字"
   ]
  },
  {
   "cell_type": "code",
   "execution_count": 5,
   "id": "2a303abb",
   "metadata": {},
   "outputs": [
    {
     "data": {
      "text/plain": [
       "array([[0.08347014, 0.97893036, 0.14224898, 0.34171598],\n",
       "       [0.97128154, 0.79547478, 0.45222161, 0.3569754 ],\n",
       "       [0.24524676, 0.61669577, 0.096744  , 0.57463465],\n",
       "       [0.87494896, 0.50060623, 0.5531631 , 0.41017155],\n",
       "       [0.86125489, 0.61161332, 0.13795594, 0.92375692]])"
      ]
     },
     "execution_count": 5,
     "metadata": {},
     "output_type": "execute_result"
    }
   ],
   "source": [
    "np.random.rand(5,4) #0~1數字"
   ]
  },
  {
   "cell_type": "code",
   "execution_count": 6,
   "id": "8d47bbb4",
   "metadata": {},
   "outputs": [
    {
     "data": {
      "text/plain": [
       "array([[-0.05413335, -0.29876695,  0.04938972, -0.15652822],\n",
       "       [ 0.2361751 ,  0.38009942, -0.47862441,  0.7183433 ],\n",
       "       [-0.03179825,  0.25361949, -1.96803502,  1.00012464],\n",
       "       [-0.66920386, -0.49732849, -1.33252807, -0.4144246 ],\n",
       "       [ 1.7949613 , -0.44471133, -0.27808899,  0.18050995]])"
      ]
     },
     "execution_count": 6,
     "metadata": {},
     "output_type": "execute_result"
    }
   ],
   "source": [
    "np.random.randn(5,4) #無限大~無限小"
   ]
  },
  {
   "cell_type": "code",
   "execution_count": 11,
   "id": "ff502cfd",
   "metadata": {},
   "outputs": [
    {
     "data": {
      "text/plain": [
       "array([[34, 63,  4, 84, 28],\n",
       "       [67, 79, 17, 96, 73],\n",
       "       [97, 83, 46, 27, 76],\n",
       "       [88, 90, 48, 58, 14],\n",
       "       [47, 70, 10, 43, 46],\n",
       "       [88, 59, 24, 31,  2]])"
      ]
     },
     "execution_count": 11,
     "metadata": {},
     "output_type": "execute_result"
    }
   ],
   "source": [
    "np.random.randint(1,100,(6,5))#隨機的整數"
   ]
  },
  {
   "cell_type": "code",
   "execution_count": 12,
   "id": "e9517128",
   "metadata": {},
   "outputs": [
    {
     "data": {
      "text/plain": [
       "array([92, 80, 37, 76, 10, 18, 98, 94, 72, 85,  2, 92, 90,  9, 66, 37, 64,\n",
       "       24, 21, 47, 14, 82, 23, 16,  8])"
      ]
     },
     "execution_count": 12,
     "metadata": {},
     "output_type": "execute_result"
    }
   ],
   "source": [
    "np.random.randint(1,100,25)#隨機的整數"
   ]
  },
  {
   "cell_type": "code",
   "execution_count": 17,
   "id": "b3204761",
   "metadata": {},
   "outputs": [
    {
     "data": {
      "text/plain": [
       "array([[43],\n",
       "       [69],\n",
       "       [49],\n",
       "       [71],\n",
       "       [19],\n",
       "       [27],\n",
       "       [62],\n",
       "       [70],\n",
       "       [55],\n",
       "       [90],\n",
       "       [78],\n",
       "       [22],\n",
       "       [66],\n",
       "       [98],\n",
       "       [35],\n",
       "       [51],\n",
       "       [62],\n",
       "       [26],\n",
       "       [78],\n",
       "       [89],\n",
       "       [10],\n",
       "       [ 4],\n",
       "       [85],\n",
       "       [ 9],\n",
       "       [69]])"
      ]
     },
     "execution_count": 17,
     "metadata": {},
     "output_type": "execute_result"
    }
   ],
   "source": [
    "np.random.randint(1,100,25).reshape(25,1)"
   ]
  },
  {
   "cell_type": "code",
   "execution_count": 18,
   "id": "3cf60577",
   "metadata": {},
   "outputs": [],
   "source": [
    "randarr = np.random.randint(1,100,25).reshape(5,5)"
   ]
  },
  {
   "cell_type": "code",
   "execution_count": 20,
   "id": "d1d0c23b",
   "metadata": {},
   "outputs": [
    {
     "data": {
      "text/plain": [
       "array([[33, 83, 64, 46, 59],\n",
       "       [44, 77, 51, 12, 36],\n",
       "       [18, 64, 32, 65, 14],\n",
       "       [86, 24, 17, 33, 80],\n",
       "       [84, 24, 93, 27, 71]])"
      ]
     },
     "execution_count": 20,
     "metadata": {},
     "output_type": "execute_result"
    }
   ],
   "source": [
    "randarr "
   ]
  },
  {
   "cell_type": "code",
   "execution_count": 22,
   "id": "a74e4fc0",
   "metadata": {},
   "outputs": [
    {
     "data": {
      "text/plain": [
       "93"
      ]
     },
     "execution_count": 22,
     "metadata": {},
     "output_type": "execute_result"
    }
   ],
   "source": [
    "#取得最大值\n",
    "randarr.max()"
   ]
  },
  {
   "cell_type": "code",
   "execution_count": 23,
   "id": "22aaa4e4",
   "metadata": {},
   "outputs": [
    {
     "data": {
      "text/plain": [
       "22"
      ]
     },
     "execution_count": 23,
     "metadata": {},
     "output_type": "execute_result"
    }
   ],
   "source": [
    "randarr.argmax() #取得最大值的Index"
   ]
  },
  {
   "cell_type": "code",
   "execution_count": 24,
   "id": "b75cac6e",
   "metadata": {},
   "outputs": [
    {
     "data": {
      "text/plain": [
       "12"
      ]
     },
     "execution_count": 24,
     "metadata": {},
     "output_type": "execute_result"
    }
   ],
   "source": [
    "randarr.min()"
   ]
  },
  {
   "cell_type": "code",
   "execution_count": 25,
   "id": "90ee015d",
   "metadata": {},
   "outputs": [
    {
     "data": {
      "text/plain": [
       "8"
      ]
     },
     "execution_count": 25,
     "metadata": {},
     "output_type": "execute_result"
    }
   ],
   "source": [
    "randarr.argmin()"
   ]
  },
  {
   "cell_type": "code",
   "execution_count": null,
   "id": "b5f98ffc",
   "metadata": {},
   "outputs": [],
   "source": []
  }
 ],
 "metadata": {
  "kernelspec": {
   "display_name": "Python 3",
   "language": "python",
   "name": "python3"
  },
  "language_info": {
   "codemirror_mode": {
    "name": "ipython",
    "version": 3
   },
   "file_extension": ".py",
   "mimetype": "text/x-python",
   "name": "python",
   "nbconvert_exporter": "python",
   "pygments_lexer": "ipython3",
   "version": "3.8.8"
  }
 },
 "nbformat": 4,
 "nbformat_minor": 5
}
