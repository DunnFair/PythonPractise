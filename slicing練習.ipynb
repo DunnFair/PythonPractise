{
 "cells": [
  {
   "cell_type": "code",
   "execution_count": 1,
   "id": "bfd9412b",
   "metadata": {},
   "outputs": [],
   "source": [
    "#var[lower:upper:step]"
   ]
  },
  {
   "cell_type": "code",
   "execution_count": 8,
   "id": "c55b8c4e",
   "metadata": {},
   "outputs": [],
   "source": [
    "import numpy as np"
   ]
  },
  {
   "cell_type": "code",
   "execution_count": 3,
   "id": "97a9d74d",
   "metadata": {},
   "outputs": [],
   "source": [
    "              #-5 -4 -3 -2 -1\n",
    "              #0  1  2  3  4\n",
    "a = np.array([10,11,12,13,14])"
   ]
  },
  {
   "cell_type": "code",
   "execution_count": 7,
   "id": "c82fb87e",
   "metadata": {},
   "outputs": [
    {
     "data": {
      "text/plain": [
       "array([11, 12])"
      ]
     },
     "execution_count": 7,
     "metadata": {},
     "output_type": "execute_result"
    }
   ],
   "source": [
    "a[1:3]"
   ]
  },
  {
   "cell_type": "code",
   "execution_count": 9,
   "id": "02380836",
   "metadata": {},
   "outputs": [
    {
     "data": {
      "text/plain": [
       "array([11, 12])"
      ]
     },
     "execution_count": 9,
     "metadata": {},
     "output_type": "execute_result"
    }
   ],
   "source": [
    "a[-4:-2]"
   ]
  },
  {
   "cell_type": "code",
   "execution_count": 10,
   "id": "17c7768e",
   "metadata": {},
   "outputs": [
    {
     "data": {
      "text/plain": [
       "array([11, 12, 13])"
      ]
     },
     "execution_count": 10,
     "metadata": {},
     "output_type": "execute_result"
    }
   ],
   "source": [
    "a[-4:-1]"
   ]
  },
  {
   "cell_type": "code",
   "execution_count": 12,
   "id": "b03701d2",
   "metadata": {},
   "outputs": [
    {
     "data": {
      "text/plain": [
       "array([11, 12, 13])"
      ]
     },
     "execution_count": 12,
     "metadata": {},
     "output_type": "execute_result"
    }
   ],
   "source": [
    "a[-4:4]"
   ]
  },
  {
   "cell_type": "code",
   "execution_count": 14,
   "id": "d72bbe4e",
   "metadata": {},
   "outputs": [
    {
     "data": {
      "text/plain": [
       "array([10, 11, 12])"
      ]
     },
     "execution_count": 14,
     "metadata": {},
     "output_type": "execute_result"
    }
   ],
   "source": [
    "#忽略內容 讀取10 11 12\n",
    "a[:3]"
   ]
  },
  {
   "cell_type": "code",
   "execution_count": 15,
   "id": "9658e569",
   "metadata": {},
   "outputs": [
    {
     "data": {
      "text/plain": [
       "array([13, 14])"
      ]
     },
     "execution_count": 15,
     "metadata": {},
     "output_type": "execute_result"
    }
   ],
   "source": [
    "a[-2:]"
   ]
  },
  {
   "cell_type": "code",
   "execution_count": 17,
   "id": "5f852cc2",
   "metadata": {},
   "outputs": [
    {
     "data": {
      "text/plain": [
       "array([10, 12, 14])"
      ]
     },
     "execution_count": 17,
     "metadata": {},
     "output_type": "execute_result"
    }
   ],
   "source": [
    "#10 12 14\n",
    "a[::2]"
   ]
  },
  {
   "cell_type": "code",
   "execution_count": 18,
   "id": "d6bce2ef",
   "metadata": {},
   "outputs": [],
   "source": [
    "a = np.arange(25).reshape(5,5)"
   ]
  },
  {
   "cell_type": "code",
   "execution_count": 19,
   "id": "bae1d84b",
   "metadata": {},
   "outputs": [
    {
     "data": {
      "text/plain": [
       "array([[ 0,  1,  2,  3,  4],\n",
       "       [ 5,  6,  7,  8,  9],\n",
       "       [10, 11, 12, 13, 14],\n",
       "       [15, 16, 17, 18, 19],\n",
       "       [20, 21, 22, 23, 24]])"
      ]
     },
     "execution_count": 19,
     "metadata": {},
     "output_type": "execute_result"
    }
   ],
   "source": [
    "a"
   ]
  },
  {
   "cell_type": "code",
   "execution_count": 20,
   "id": "39434359",
   "metadata": {},
   "outputs": [
    {
     "data": {
      "text/plain": [
       "array([3, 4])"
      ]
     },
     "execution_count": 20,
     "metadata": {},
     "output_type": "execute_result"
    }
   ],
   "source": [
    "#希望讀取3,4\n",
    "a[0,3:5] #row,column"
   ]
  },
  {
   "cell_type": "code",
   "execution_count": 21,
   "id": "1a570758",
   "metadata": {},
   "outputs": [
    {
     "data": {
      "text/plain": [
       "array([[18, 19],\n",
       "       [23, 24]])"
      ]
     },
     "execution_count": 21,
     "metadata": {},
     "output_type": "execute_result"
    }
   ],
   "source": [
    "#18 ,19 ,23 ,24\n",
    "a[3:,3:]"
   ]
  },
  {
   "cell_type": "code",
   "execution_count": 22,
   "id": "8d54d76b",
   "metadata": {},
   "outputs": [
    {
     "data": {
      "text/plain": [
       "array([ 2,  7, 12, 17, 22])"
      ]
     },
     "execution_count": 22,
     "metadata": {},
     "output_type": "execute_result"
    }
   ],
   "source": [
    "#2,7,12,17,22\n",
    "a[:,2]"
   ]
  },
  {
   "cell_type": "code",
   "execution_count": 24,
   "id": "5811b400",
   "metadata": {},
   "outputs": [
    {
     "data": {
      "text/plain": [
       "array([[10, 12, 14],\n",
       "       [20, 22, 24]])"
      ]
     },
     "execution_count": 24,
     "metadata": {},
     "output_type": "execute_result"
    }
   ],
   "source": [
    "#10 12 14 20 22 24\n",
    "a[2::2,::2]"
   ]
  },
  {
   "cell_type": "code",
   "execution_count": 1,
   "id": "9477cd4f",
   "metadata": {},
   "outputs": [
    {
     "name": "stdout",
     "output_type": "stream",
     "text": [
      "Object `np.arange` not found.\n"
     ]
    }
   ],
   "source": []
  },
  {
   "cell_type": "code",
   "execution_count": null,
   "id": "38583e96",
   "metadata": {},
   "outputs": [],
   "source": []
  }
 ],
 "metadata": {
  "kernelspec": {
   "display_name": "Python 3",
   "language": "python",
   "name": "python3"
  },
  "language_info": {
   "codemirror_mode": {
    "name": "ipython",
    "version": 3
   },
   "file_extension": ".py",
   "mimetype": "text/x-python",
   "name": "python",
   "nbconvert_exporter": "python",
   "pygments_lexer": "ipython3",
   "version": "3.8.8"
  }
 },
 "nbformat": 4,
 "nbformat_minor": 5
}
